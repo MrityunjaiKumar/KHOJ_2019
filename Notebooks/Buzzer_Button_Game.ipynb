{
 "cells": [
  {
   "cell_type": "code",
   "execution_count": 1,
   "metadata": {
    "scrolled": true
   },
   "outputs": [],
   "source": [
    "from phySyncFirmata import ArduinoNano\n",
    "import phySyncFirmata\n",
    "import time\n",
    "import random\n",
    "\n",
    "PORT = ArduinoNano.AUTODETECT\n",
    "board = ArduinoNano(PORT)\n",
    "\n",
    "board.samplingOn()"
   ]
  },
  {
   "cell_type": "code",
   "execution_count": 2,
   "metadata": {},
   "outputs": [],
   "source": [
    "is_out = False\n",
    "score = 0\n",
    "\n",
    "Buzzer = board.get_pin('d:5:p')\n",
    "switch = board.get_pin('d:3:i')\n",
    "switch.enable_reporting()"
   ]
  },
  {
   "cell_type": "code",
   "execution_count": 3,
   "metadata": {
    "scrolled": false
   },
   "outputs": [
    {
     "name": "stdout",
     "output_type": "stream",
     "text": [
      "Stop Cheating\n",
      "Your score is decreased to-100\n",
      "Button pressed\n",
      "Button not pressed\n",
      "You are out\n",
      "Your score is -99\n"
     ]
    }
   ],
   "source": [
    "while is_out == False:\n",
    "    t = random.uniform(1, 5)\n",
    "    board.pass_time(t)\n",
    "    if str(switch.read()) == 'False':\n",
    "        print(\"Stop Cheating\")\n",
    "        Buzzer.write(0.440)\n",
    "        board.pass_time(2)\n",
    "        Buzzer.write(0)\n",
    "        score = score - 100\n",
    "        print('Your score is decreased to ' + str(score))\n",
    "    else:\n",
    "        Buzzer.write(0.6)\n",
    "        board.pass_time(0.1)\n",
    "        Buzzer.write(0)\n",
    "        board.pass_time(0.2)\n",
    "        if str(switch.read()) == 'False':\n",
    "            print(\"Button pressed\")\n",
    "            is_out = False\n",
    "            score += 1\n",
    "        elif str(switch.read()) == 'True':\n",
    "            print(\"Button not pressed\")\n",
    "            is_out = True\n",
    "        else:\n",
    "            print(\"Button has never been pressed\")\n",
    "else:\n",
    "    print('You are out')\n",
    "    print('Your score is %s' % score)\n",
    "    board.exit()"
   ]
  },
  {
   "cell_type": "code",
   "execution_count": null,
   "metadata": {},
   "outputs": [],
   "source": []
  }
 ],
 "metadata": {
  "kernelspec": {
   "display_name": "Python 3",
   "language": "python",
   "name": "python3"
  },
  "language_info": {
   "codemirror_mode": {
    "name": "ipython",
    "version": 3
   },
   "file_extension": ".py",
   "mimetype": "text/x-python",
   "name": "python",
   "nbconvert_exporter": "python",
   "pygments_lexer": "ipython3",
   "version": "3.7.3"
  }
 },
 "nbformat": 4,
 "nbformat_minor": 2
}
