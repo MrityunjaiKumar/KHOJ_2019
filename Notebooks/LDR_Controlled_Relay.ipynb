{
 "cells": [
  {
   "cell_type": "code",
   "execution_count": 1,
   "metadata": {},
   "outputs": [],
   "source": [
    "from phySyncFirmata import ArduinoNano\n",
    "import phySyncFirmata\n",
    "import config \n",
    "import time"
   ]
  },
  {
   "cell_type": "code",
   "execution_count": 2,
   "metadata": {},
   "outputs": [],
   "source": [
    "PORT = ArduinoNano.AUTODETECT\n",
    "board = ArduinoNano(PORT)\n",
    "# setting port for Arduino\n",
    "\n",
    "board.samplingOn()"
   ]
  },
  {
   "cell_type": "code",
   "execution_count": 3,
   "metadata": {},
   "outputs": [],
   "source": [
    "board.analog[config.LDR].enable_reporting()\n",
    "\n",
    "Relay = board.get_pin(\"d:\"+str(config.Ac)+\":o\")\n",
    "\n",
    "board.digital[config.Ac].write(0)\n",
    "\n",
    "loop = True\n",
    "\n",
    "switch = board.get_pin('d:3:i') # defining a variable for switch\n",
    "switch.enable_reporting()"
   ]
  },
  {
   "cell_type": "code",
   "execution_count": 4,
   "metadata": {},
   "outputs": [
    {
     "name": "stdout",
     "output_type": "stream",
     "text": [
      "0.10750000000000004\n",
      "0.6158\n",
      "0.37239999999999995\n",
      "0.0968\n",
      "0.6989000000000001\n",
      "0.0968\n",
      "0.10750000000000004\n"
     ]
    }
   ],
   "source": [
    "while loop == True:\n",
    "    ldr_level = 1 - (board.analog[config.LDR].read())\n",
    "    print(ldr_level)\n",
    "    if ldr_level < 0.175:\n",
    "        Relay.write(0)\n",
    "    else:\n",
    "        Relay.write(1)\n",
    "    board.pass_time(2)\n",
    "    \n",
    "    if str(switch.read()) == 'False':\n",
    "        loop = False # closing loop if button is pressed\n",
    "    elif str(switch.read()) == 'True':\n",
    "        loop = True # continuing loop if button not pressed\n",
    "\n",
    "Relay.write(0)\n",
    "board.exit()"
   ]
  }
 ],
 "metadata": {
  "kernelspec": {
   "display_name": "Python 3",
   "language": "python",
   "name": "python3"
  },
  "language_info": {
   "codemirror_mode": {
    "name": "ipython",
    "version": 3
   },
   "file_extension": ".py",
   "mimetype": "text/x-python",
   "name": "python",
   "nbconvert_exporter": "python",
   "pygments_lexer": "ipython3",
   "version": "3.7.3"
  }
 },
 "nbformat": 4,
 "nbformat_minor": 2
}
