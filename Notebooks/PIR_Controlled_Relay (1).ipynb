{
 "cells": [
  {
   "cell_type": "code",
   "execution_count": null,
   "metadata": {},
   "outputs": [],
   "source": [
    "from phySyncFirmata import ArduinoNano\n",
    "import phySyncFirmata\n",
    "import config \n",
    "import time"
   ]
  },
  {
   "cell_type": "code",
   "execution_count": null,
   "metadata": {},
   "outputs": [],
   "source": [
    "PORT = ArduinoNano.AUTODETECT\n",
    "board = ArduinoNano(PORT)\n",
    "# setting port for Arduino\n",
    "\n",
    "board.samplingOn(100)"
   ]
  },
  {
   "cell_type": "code",
   "execution_count": null,
   "metadata": {},
   "outputs": [],
   "source": [
    "Relay = board.get_pin(\"d:\"+str(config.Ac)+\":o\")\n",
    "\n",
    "PIR = board.get_pin(\"d:\"+str(config.Pir)+\":i\")\n",
    "\n",
    "loop = True\n",
    "\n",
    "switch = board.get_pin('d:3:i') # defining a variable for switch\n",
    "switch.enable_reporting()"
   ]
  },
  {
   "cell_type": "code",
   "execution_count": null,
   "metadata": {},
   "outputs": [],
   "source": [
    "while loop == True:\n",
    "    pir_level = PIR.read()\n",
    "    print(pir_level)\n",
    "    if pir_level == 1:\n",
    "        Relay.write(0)\n",
    "        board.pass_time(2)\n",
    "    else:\n",
    "        Relay.write(1)\n",
    "        \n",
    "    \n",
    "    if str(switch.read()) == 'False':\n",
    "        loop = False # closing loop if button is pressed\n",
    "    elif str(switch.read()) == 'True':\n",
    "        loop = True # continuing loop if button not pressed\n",
    "\n",
    "Relay.write(0)\n",
    "board.exit()"
   ]
  },
  {
   "cell_type": "code",
   "execution_count": null,
   "metadata": {},
   "outputs": [],
   "source": []
  }
 ],
 "metadata": {
  "kernelspec": {
   "display_name": "Python 3",
   "language": "python",
   "name": "python3"
  },
  "language_info": {
   "codemirror_mode": {
    "name": "ipython",
    "version": 3
   },
   "file_extension": ".py",
   "mimetype": "text/x-python",
   "name": "python",
   "nbconvert_exporter": "python",
   "pygments_lexer": "ipython3",
   "version": "3.7.3"
  }
 },
 "nbformat": 4,
 "nbformat_minor": 2
}
