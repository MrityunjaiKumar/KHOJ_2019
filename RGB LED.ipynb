{
 "cells": [
  {
   "cell_type": "code",
   "execution_count": 1,
   "metadata": {},
   "outputs": [],
   "source": [
    "from phySyncFirmata import ArduinoNano\n",
    "import phySyncFirmata\n",
    "import config \n",
    "import time\n",
    "%matplotlib notebook\n",
    "import matplotlib.pyplot as plt\n",
    "import matplotlib.animation as animation\n",
    "import numpy as np\n",
    "# importing all required libraries"
   ]
  },
  {
   "cell_type": "code",
   "execution_count": null,
   "metadata": {},
   "outputs": [],
   "source": [
    "\n",
    "board.samplingOn()"
   ]
  },
  {
   "cell_type": "code",
   "execution_count": 2,
   "metadata": {},
   "outputs": [],
   "source": [
    "PORT = ArduinoNano.AUTODETECT\n",
    "board = ArduinoNano(PORT)\n",
    "# setting port for Arduino\n"
   ]
  },
  {
   "cell_type": "code",
   "execution_count": 3,
   "metadata": {},
   "outputs": [],
   "source": [
    "r_axis_array = [0] # r refers to red color brightness; array consists of all the values took\n",
    "g_axis_array = [0] # g refers to green color brightness\n",
    "b_axis_array = [0] # b refers to blue color brightness\n",
    "time_array = [0] # consists of all time values\n",
    "time = 0 # setting up initial time\n",
    "\n",
    "board.analog[config.Pot_1].enable_reporting()\n",
    "board.analog[config.Pot_2].enable_reporting()\n",
    "board.analog[config.Pot_3].enable_reporting()\n",
    "# enabling all three potentiometers\n",
    "\n",
    "board.digital[config.R_led].write(1) \n",
    "board.digital[config.G_led].write(1) \n",
    "board.digital[config.B_led].write(1) \n",
    "# making all LEDs initially be off\n",
    "\n",
    "Bled = board.get_pin(\"d:\"+str(config.B_led)+\":p\")\n",
    "Gled = board.get_pin(\"d:\"+str(config.G_led)+\":p\")\n",
    "Rled = board.get_pin(\"d:\"+str(config.R_led)+\":p\")\n",
    "# setting variables for all LEDs\n",
    "\n",
    "switch = board.get_pin('d:3:i') # defining a variable for switch\n",
    "switch.enable_reporting() # enabling switch\n",
    "\n",
    "loop = True # defining that the loop should work initially"
   ]
  },
  {
   "cell_type": "code",
   "execution_count": null,
   "metadata": {
    "scrolled": true
   },
   "outputs": [],
   "source": [
    "while loop == True:\n",
    "    red_level = board.analog[config.Pot_1].read() \n",
    "    green_level = board.analog[config.Pot_2].read()\n",
    "    blue_level = board.analog[config.Pot_3].read()\n",
    "    # reading values of potentiometers\n",
    "    \n",
    "    board.pass_time(0.015)\n",
    "    time = time + 0.015\n",
    "    time_array.append(time)\n",
    "    # adding time to time array\n",
    "    \n",
    "    Bled.write(blue_level)\n",
    "    Gled.write(green_level)\n",
    "    Rled.write(red_level)\n",
    "    # setting brightness for RGB led\n",
    "    \n",
    "    r_axis_array.append(1-red_level)\n",
    "    g_axis_array.append(1-green_level)\n",
    "    b_axis_array.append(1-blue_level)\n",
    "    # adding respective brightness levels to respective arrays\n",
    "    \n",
    "    if str(switch.read()) == 'False':\n",
    "        loop = False # closing loop if button is pressed\n",
    "    elif str(switch.read()) == 'True':\n",
    "        loop = True # continuing loop if button not pressed\n",
    "else:\n",
    "    board.digital[config.R_led].write(1)\n",
    "    board.digital[config.G_led].write(1)\n",
    "    board.digital[config.B_led].write(1)\n",
    "    # turning off RGB led\n",
    "    \n",
    "    plt.plot(time_array,r_axis_array, 'ro')\n",
    "    plt.plot(time_array,g_axis_array, 'go')\n",
    "    plt.plot(time_array,b_axis_array, 'bo')\n",
    "    # plotting respective arrays\n",
    "    \n",
    "    plt.show()\n",
    "    board.exit()"
   ]
  }
 ],
 "metadata": {
  "kernelspec": {
   "display_name": "Python 3",
   "language": "python",
   "name": "python3"
  },
  "language_info": {
   "codemirror_mode": {
    "name": "ipython",
    "version": 3
   },
   "file_extension": ".py",
   "mimetype": "text/x-python",
   "name": "python",
   "nbconvert_exporter": "python",
   "pygments_lexer": "ipython3",
   "version": "3.7.3"
  }
 },
 "nbformat": 4,
 "nbformat_minor": 2
}
